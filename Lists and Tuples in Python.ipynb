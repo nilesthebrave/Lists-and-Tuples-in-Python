{
 "cells": [
  {
   "cell_type": "markdown",
   "metadata": {},
   "source": [
    "<img src=\"https://datasciencedegree.wisconsin.edu/wp-content/themes/data-gulp/images/logo.svg\" width=\"300\">\n"
   ]
  },
  {
   "cell_type": "markdown",
   "metadata": {},
   "source": [
    "# Assignment 4\n",
    "\n",
    "This assignment has you play with such things as random data generation, and computation on data stored in a Python list.  \n",
    "<img src=\"https://upload.wikimedia.org/wikipedia/commons/3/36/Two_red_dice_01.svg\" width=\"150\">\n",
    "\n",
    "We're gonna use functions to do as much of it as we can, because functions are totally awesome.\n",
    "\n",
    "Might I recommend the use of [Numpy](http://www.numpy.org/) for random numbers and other useful things?"
   ]
  },
  {
   "cell_type": "markdown",
   "metadata": {},
   "source": [
    "## Problem 1.  Revenue models.\n",
    "\n",
    "You're an analyst for *Farm2Table*, a chain restaurant that sources its food locally whenever possible.  You are tasked to forecast the financial payoff of an ad campaign.  \n",
    "\n",
    "Currently, average monthly revenue at each store is \\$100,000, with a standard deviation of \\$12,000.  An advertising firm claims that with clever advertisement, they can increase monthly revenue for *Farm2Table* to \\$120,000, but the standard deviation will be increased as well, to \\$25,000.  Assume a **normal distribution**.\n",
    "\n",
    "---\n",
    "\n",
    "🎯 Write a Python function `simulate_revenue(average, std_dev, months)`.\n",
    "- it produces simulated revenue data according to a normal distribution with shape parameterized by `average` and `std_dev`, for a given number of months.   \n",
    "- It returns a list of length `months`. \n",
    "- Round each item to the nearest cent.  No fractions of a cent allowed. \n",
    "\n",
    "Use `simulate_revenue` to generate two lists of random numbers which model potential revenue: \n",
    "\n",
    "1. one list `before` with 24 months of revenue using the current mean and standard deviation, \n",
    "2. another list `after` with 12 months of revenue using the predicted mean and standard deviation.\n",
    "\n",
    "Then, concatenate `before` and `after` to produce a third list `all_months` containing the revenue of all 36 months.  \n",
    "\n",
    "---\n",
    "\n",
    "🎯 Write a function `print_monthly_revenue(revenue, name)` that prints an arbitrary list to the screen, with these formatting requirements:\n",
    "- round each number *when printing* to the nearest $100.  \n",
    "- do not modify the original list.\n",
    "- prints a two-column output, with `month: revenue` (the month is implicitly given). Pad the month value so it is always of width 2.\n",
    "- right-align the revenue value\n",
    "\n",
    "Example: \n",
    "`print_monthly_revenue(before, \"before\")` produces\n",
    "```\n",
    "Revenue for period 'before'\n",
    "\n",
    "Mo: revenue\n",
    "-----------\n",
    "01: 123100\n",
    "02:  98288\n",
    "...\n",
    "```\n",
    "\n",
    "Call `print_monthly_revenue` on each of your concatenated list, and be sure to commit the output."
   ]
  },
  {
   "cell_type": "code",
   "execution_count": 1,
   "metadata": {},
   "outputs": [],
   "source": [
    "import numpy as np"
   ]
  },
  {
   "cell_type": "code",
   "execution_count": 2,
   "metadata": {},
   "outputs": [
    {
     "name": "stdout",
     "output_type": "stream",
     "text": [
      "Before:  [94071.76, 105524.39, 106181.89, 64638.02, 83864.45, 118771.92, 103673.42, 90878.22, 91168.22, 89659.26, 120043.4, 88851.75, 67372.53, 93454.46, 79333.96, 112085.09, 114737.91, 103260.34, 110746.77, 91210.2, 82209.84, 97440.12, 100791.18, 120705.34] \n",
      "\n",
      "After:  [90118.06, 122847.8, 117940.71, 101972.68, 148347.02, 111442.22, 102248.41, 103254.43, 110619.97, 156458.15, 91998.04, 118771.79] \n",
      "\n",
      "All:  [94071.76, 105524.39, 106181.89, 64638.02, 83864.45, 118771.92, 103673.42, 90878.22, 91168.22, 89659.26, 120043.4, 88851.75, 67372.53, 93454.46, 79333.96, 112085.09, 114737.91, 103260.34, 110746.77, 91210.2, 82209.84, 97440.12, 100791.18, 120705.34, 90118.06, 122847.8, 117940.71, 101972.68, 148347.02, 111442.22, 102248.41, 103254.43, 110619.97, 156458.15, 91998.04, 118771.79] \n",
      "\n"
     ]
    }
   ],
   "source": [
    "# Simulate revenue function\n",
    "def simulate_revenue(average, std_dev, months):\n",
    "    # Generate empty list\n",
    "    revenue = []\n",
    "    \n",
    "    # For each iteration in month, append a random number to list\n",
    "    for i in range(months):\n",
    "        monthlyRev = np.random.normal(average, std_dev)\n",
    "        revenue.append(monthlyRev)\n",
    "        revenue = [round(elem,2) for elem in revenue]\n",
    "    \n",
    "    return revenue\n",
    "\n",
    "# Before and after\n",
    "before = simulate_revenue(100000,12000,24)\n",
    "after = simulate_revenue(120000,25000,12)\n",
    "\n",
    "print(\"Before: \",before,'\\n')\n",
    "print(\"After: \", after, '\\n')\n",
    "\n",
    "# All months\n",
    "all_months = before + after\n",
    "print(\"All: \", all_months, '\\n')"
   ]
  },
  {
   "cell_type": "code",
   "execution_count": 3,
   "metadata": {},
   "outputs": [],
   "source": [
    "def print_monthly_revenue(revenue, name):\n",
    "    # Empty list and dashes for table\n",
    "    monthlyRevRound = []\n",
    "    dash = '-' * (len(name) + 10)\n",
    "    \n",
    "    # Print first top of table\n",
    "    print(name, \":\", \"revenue\")\n",
    "    print('{:<0}'.format(dash))\n",
    "    # Loop through revenue, round it to nearest 100, convert to string, print formatted\n",
    "    for i in range(len(revenue)):\n",
    "        monthlyRev = int(round(revenue[i],-2))\n",
    "        monthStr = str(i+1)\n",
    "        monthlyRevStr = str(monthlyRev)\n",
    "        print('{:<2}'.format(monthStr), '{:>10}'.format(monthlyRevStr))\n",
    "\n",
    "    return"
   ]
  },
  {
   "cell_type": "code",
   "execution_count": 4,
   "metadata": {},
   "outputs": [
    {
     "name": "stdout",
     "output_type": "stream",
     "text": [
      "Before : revenue\n",
      "----------------\n",
      "1       94100\n",
      "2      105500\n",
      "3      106200\n",
      "4       64600\n",
      "5       83900\n",
      "6      118800\n",
      "7      103700\n",
      "8       90900\n",
      "9       91200\n",
      "10      89700\n",
      "11     120000\n",
      "12      88900\n",
      "13      67400\n",
      "14      93500\n",
      "15      79300\n",
      "16     112100\n",
      "17     114700\n",
      "18     103300\n",
      "19     110700\n",
      "20      91200\n",
      "21      82200\n",
      "22      97400\n",
      "23     100800\n",
      "24     120700\n"
     ]
    }
   ],
   "source": [
    "print_monthly_revenue(before, 'Before')"
   ]
  },
  {
   "cell_type": "code",
   "execution_count": 5,
   "metadata": {},
   "outputs": [
    {
     "name": "stdout",
     "output_type": "stream",
     "text": [
      "After : revenue\n",
      "---------------\n",
      "1       90100\n",
      "2      122800\n",
      "3      117900\n",
      "4      102000\n",
      "5      148300\n",
      "6      111400\n",
      "7      102200\n",
      "8      103300\n",
      "9      110600\n",
      "10     156500\n",
      "11      92000\n",
      "12     118800\n"
     ]
    }
   ],
   "source": [
    "print_monthly_revenue(after, 'After')"
   ]
  },
  {
   "cell_type": "code",
   "execution_count": 6,
   "metadata": {},
   "outputs": [
    {
     "name": "stdout",
     "output_type": "stream",
     "text": [
      "All : revenue\n",
      "-------------\n",
      "1       94100\n",
      "2      105500\n",
      "3      106200\n",
      "4       64600\n",
      "5       83900\n",
      "6      118800\n",
      "7      103700\n",
      "8       90900\n",
      "9       91200\n",
      "10      89700\n",
      "11     120000\n",
      "12      88900\n",
      "13      67400\n",
      "14      93500\n",
      "15      79300\n",
      "16     112100\n",
      "17     114700\n",
      "18     103300\n",
      "19     110700\n",
      "20      91200\n",
      "21      82200\n",
      "22      97400\n",
      "23     100800\n",
      "24     120700\n",
      "25      90100\n",
      "26     122800\n",
      "27     117900\n",
      "28     102000\n",
      "29     148300\n",
      "30     111400\n",
      "31     102200\n",
      "32     103300\n",
      "33     110600\n",
      "34     156500\n",
      "35      92000\n",
      "36     118800\n"
     ]
    }
   ],
   "source": [
    "print_monthly_revenue(all_months, \"All\")"
   ]
  },
  {
   "cell_type": "markdown",
   "metadata": {},
   "source": [
    "---\n",
    "\n",
    "## Problem 2(a).  Bus arrival times.\n",
    "\n",
    "Shuttle buses arrive at an airport to fetch passengers with an average interval of 15 minutes.  Their actual interarrival times follow an **exponential distribution**.  \n",
    "\n",
    "---\n",
    "\n",
    "🎯 Write a function `simulate_busses(mean, num_busses)` that simulates bus arrival times\n",
    "\n",
    "- Use a ```random``` module to generate the exponentially distributed bus intervals.\n",
    "- Round your raw data to the nearest tenth of a minute.  Realize that rounding is generally scary, and can cause serious problems downstream if not done only when appropriate.\n",
    "\n",
    "Call your function to generate a list of 50 arrival times with mean 15; capture the result in a variable called `bus_times`.  Print your list, and be sure to commit the output.\n",
    "\n",
    "For example, your list might begin ```[11.2, 34.1, 18.8, 23.5, ...```.  \n",
    "\n",
    "---\n",
    "\n",
    "🎯 Use Python to answer the following questions:  \n",
    "1. What is the shortest waiting time in your list?  \n",
    "2. What is the longest waiting time?  \n",
    "\n",
    "These answers must be programmatically determined and the output that proves you computed them (namely, the values) must be committed.\n",
    "\n",
    "---\n",
    "\n",
    "🎯 When answering the previous question, did you write a function?  Why or why not?"
   ]
  },
  {
   "cell_type": "code",
   "execution_count": 7,
   "metadata": {},
   "outputs": [],
   "source": [
    "import numpy as np"
   ]
  },
  {
   "cell_type": "code",
   "execution_count": 8,
   "metadata": {},
   "outputs": [],
   "source": [
    "def simulate_busses(mean, num_busses):\n",
    "    \n",
    "    busGen = np.random.exponential(mean, num_busses)\n",
    "    bus_times = np.round(busGen,1)\n",
    "    #print(bus_times)    \n",
    "    return bus_times"
   ]
  },
  {
   "cell_type": "code",
   "execution_count": 9,
   "metadata": {},
   "outputs": [
    {
     "name": "stdout",
     "output_type": "stream",
     "text": [
      "[14.8 24.5  5.  14.   2.7  4.2 42.5 14.1  3.8  5.   9.2  7.   0.9 14.4\n",
      "  7.8  6.7 11.   1.9 18.2  0.8  5.3  6.  39.2  6.1 10.6  6.8 12.3  8.4\n",
      "  9.4  0.2  0.7  5.2  3.9 10.  21.1  0.3  3.  38.   8.5 14.8  1.3 15.5\n",
      "  9.8  1.8  5.  28.9 22.   0.9 62.2 20.1]\n"
     ]
    }
   ],
   "source": [
    "busList = simulate_busses(15,50)\n",
    "print(busList)"
   ]
  },
  {
   "cell_type": "code",
   "execution_count": 10,
   "metadata": {},
   "outputs": [
    {
     "data": {
      "text/plain": [
       "0.2"
      ]
     },
     "execution_count": 10,
     "metadata": {},
     "output_type": "execute_result"
    }
   ],
   "source": [
    "np.min(busList)"
   ]
  },
  {
   "cell_type": "code",
   "execution_count": 11,
   "metadata": {},
   "outputs": [
    {
     "data": {
      "text/plain": [
       "62.2"
      ]
     },
     "execution_count": 11,
     "metadata": {},
     "output_type": "execute_result"
    }
   ],
   "source": [
    "np.max(busList)"
   ]
  },
  {
   "cell_type": "markdown",
   "metadata": {},
   "source": [
    "I did not write a function. I figured since I was already using NumPy I should just have it do the legwork for me and not reinvent the wheel."
   ]
  },
  {
   "cell_type": "markdown",
   "metadata": {},
   "source": [
    "# Problem 2(b).  Cumulative waiting times.\n",
    "\n",
    "In this problem, you'll interpret the data you generated in Problem 2(a) as a sequence of consecutive arrival times.  Suppose the first bus arrives at the measured number of minutes after midnight.  The bus company wants to track the time each bus arrived, measured in minutes after midnight.  \n",
    "\n",
    "🎯 Write a function that transforms the bus arrival times into cumulative times.  The function takes in a list of arrival times, and returns a list of the number of minutes after midnight that each bus arrived at, using the list you generated in part (a).\n",
    "\n",
    "- This assumes the first bus arrived at the airport terminal at midnight *plus* its arrival time (the time at bus_times[0]).  The second arrived at the arrival time of the first *plus* its arrival time, etc.\n",
    "- I'm deliberately not naming your function for you, here.  You get to choose!  Make it descriptive!\n",
    "\n",
    "With the data from our example in part (a), the answer would start ```[11.2, 45.3, 64.1, 87.6, ...]```, where 45.3 = 11.2+34.1.  Call your function on your variable that you already have in memory.  Print your cumulative waiting time list.\n",
    "\n",
    "---\n",
    "\n",
    "🎯 Using the list generated in 2(a), at what time does the 50th bus arrive? Print the time in the format `HH:MM AM/PM` where `HH` is the hour and `MM` is the minute.  \n",
    "\n",
    "###### On the printing of the times\n",
    "\n",
    "* Note that HH should be between 01 and 12.\n",
    "* You must print that leading 0 in the hour and minute, if it is less than 10.\n",
    "* Do *not* generate a new list of times; be sure to re-use the list of intervals you already generated in 2(a).\n",
    "* I strongly suggest you write a **function** to stringify the floating point number.  \n",
    "  * It eats the floating point number, interpreted as number of minutes past midnight.  \n",
    "  * It returns a string, composed of the hours, minutes, and morning/afternoon indicator.  \n",
    "  * To solve this problem, take a random number of minutes, and do the computation yourself, and write down the steps you take to do it.  That's what you should make the computer do!\n",
    "  * Test the function as you develop it, with some known inputs and the times they should map to; e.g., 125.0 is \"02:05 AM\", and so is 125+24*60."
   ]
  },
  {
   "cell_type": "code",
   "execution_count": 12,
   "metadata": {},
   "outputs": [],
   "source": [
    "def BusTimeSum(bus_times):\n",
    "    \n",
    "    timeInMinutes = sum(bus_times)\n",
    "    timeInMinutes = np.round(timeInMinutes,1)\n",
    "    #print(x)\n",
    "    return timeInMinutes"
   ]
  },
  {
   "cell_type": "code",
   "execution_count": 13,
   "metadata": {},
   "outputs": [
    {
     "name": "stdout",
     "output_type": "stream",
     "text": [
      "585.8\n"
     ]
    }
   ],
   "source": [
    "minutes = BusTimeSum(busList)\n",
    "print(minutes)"
   ]
  },
  {
   "cell_type": "code",
   "execution_count": 14,
   "metadata": {},
   "outputs": [],
   "source": [
    "def minutesToTime(minutes):\n",
    "    ap = \"AM\"\n",
    "    hours = int(minutes / 60)\n",
    "    print(hours)\n",
    "    minutes = minutes % 60\n",
    "    minutes =  int(minutes)\n",
    "    if minutes < 10:\n",
    "        minutes = ('0{}'.format(minutes))\n",
    "    if hours > 12:\n",
    "        ap = \"PM\"\n",
    "        hours = hours - 12\n",
    "    if hours < 10:\n",
    "        hours = ('0{}'.format(hours))\n",
    "\n",
    "    print(\"{}:{} {}\".format(hours, minutes,ap))\n",
    "    return"
   ]
  },
  {
   "cell_type": "code",
   "execution_count": 15,
   "metadata": {},
   "outputs": [
    {
     "name": "stdout",
     "output_type": "stream",
     "text": [
      "9\n",
      "09:45 AM\n"
     ]
    }
   ],
   "source": [
    "minutesToTime(minutes)"
   ]
  },
  {
   "cell_type": "markdown",
   "metadata": {},
   "source": [
    "---\n",
    "\n",
    "## Problem 3.  Chocolate and the Nobel\n",
    "\n",
    "This problem also uses generation of random numbers to simulate.  \n",
    "\n",
    "Researchers have observed a (presumably spurious) correlation between per capita chocolate consumption and the rate of Nobel prize laureates: see [Chocolate Consumption, Cognitive Function, and Nobel Laureates](http://www.nejm.org/doi/full/10.1056/NEJMon1211064).  In this problem, we will create some sample data to simulate this relationship.\n",
    "\n",
    "I have not told you what to name your functions, or even when to write them.  But know that the person who is authoring this assignment often writes one-line functions with descriptive names.  There's power in naming your actions, no matter how simple!!!\n",
    "### Problem 3(a).  A first pass at simulation\n",
    "\n",
    "\n",
    "\n",
    "🎯 Write Python code to produce a list of 50 ordered pairs $(c,n)$, where $c$ represents chocolate consumption in kg/year/person and $n$ represents the number of Nobel laureates per 10 million population, for some country.  The values for $c$ should be random numbers (not necessarily integers!) **uniformly distributed** between 0 and 15.  You may assume that $c$ and $n$ are related by\n",
    "\n",
    "$n = 0.4\\cdot c-0.8$.\n",
    "\n",
    "However, it is impossible for a nation to have a negative number of Nobel laureates, so if your predicted value of $n$ is less than 0 for a country, replace that value by 0.\n",
    "\n",
    "🎯 Print your list of ordered pairs; report your values of $c$ and $n$ to 2 decimal places."
   ]
  },
  {
   "cell_type": "code",
   "execution_count": 16,
   "metadata": {},
   "outputs": [],
   "source": [
    "import numpy as np"
   ]
  },
  {
   "cell_type": "code",
   "execution_count": 17,
   "metadata": {},
   "outputs": [],
   "source": [
    "# Return a list of random uniformly distributed numbers\n",
    "def RandomUniform(sample):\n",
    "    numList = [] \n",
    "    # Create list with random uniformly distributed values between 0 and 15\n",
    "    for i in range(sample):\n",
    "        sample = np.random.uniform(0,15)\n",
    "        numList.append(sample)\n",
    "    return numList"
   ]
  },
  {
   "cell_type": "code",
   "execution_count": 18,
   "metadata": {},
   "outputs": [],
   "source": [
    "# Return a list of Nobel Prize winners based on how much chocolate was eaten\n",
    "def NobelPerChocolate(c):\n",
    "    nobel = []\n",
    "    # Create a list by manipulating each element from RandomUniform\n",
    "    for i in range(len(c)):\n",
    "        n =  (0.4 * c[i]) -.8\n",
    "        if n < 0:\n",
    "            n = 0\n",
    "        nobel.append(n)\n",
    "    return nobel"
   ]
  },
  {
   "cell_type": "code",
   "execution_count": 19,
   "metadata": {},
   "outputs": [
    {
     "name": "stdout",
     "output_type": "stream",
     "text": [
      "Chocolate: [2.039420922408267, 0.4385412419685669, 3.829137820258577, 9.99116057546959, 6.72047403974242, 11.14717695303612, 4.157629123065477, 8.98275371528634, 13.671935542712697, 11.751879261969446, 3.590816168238276, 6.69340269611882, 2.2910644707361523, 6.052617729443012, 3.027037970285286, 2.7875267594195297, 8.31088030347022, 2.622396342278278, 8.259512072698382, 10.637032841214241, 7.028646596335229, 8.0787766709966, 3.982324822711333, 6.788736704314689, 8.461758461716641, 14.525217615621742, 7.417756704650074, 13.982115454264326, 7.419238277458218, 13.065932631843635, 3.7504994366403226, 3.242469405078325, 12.082597652420919, 13.477177034805695, 0.5571089378318572, 8.450124067171451, 2.6388793378983206, 11.659927624641774, 8.58077598336137, 5.164734682260544, 3.6424541304559805, 3.4182204022322416, 12.036560663444671, 12.208958666858932, 3.196101107200165, 7.7341345786567475, 4.56043035220268, 4.139055494687497, 6.996353310551985, 2.232535213551414]\n",
      "\n",
      "Nobel:  [0.0157683689633068, 0, 0.7316551281034307, 3.1964642301878357, 1.8881896158969684, 3.658870781214448, 0.8630516492261908, 2.7931014861145362, 4.66877421708508, 3.900751704787779, 0.6363264672953104, 1.8773610784475283, 0.11642578829446093, 1.621047091777205, 0.41081518811411444, 0.3150107037678118, 2.5243521213880884, 0.2489585369113112, 2.5038048290793524, 3.454813136485697, 2.0114586385340916, 2.43151066839864, 0.7929299290845333, 1.9154946817258758, 2.584703384686657, 5.010087046248697, 2.1671026818600296, 4.792846181705731, 2.1676953109832873, 4.426373052737454, 0.700199774656129, 0.4969877620313301, 4.033039060968368, 4.590870813922279, 0, 2.580049626868581, 0.25555173515932816, 3.86397104985671, 2.6323103933445484, 1.2658938729042177, 0.6569816521823924, 0.5672881608928966, 4.014624265377869, 4.0835834667435735, 0.47844044288006593, 2.2936538314626995, 1.024172140881072, 0.8556221978749989, 1.9985413242207943, 0.09301408542056555]\n"
     ]
    }
   ],
   "source": [
    "# Function calls and print statements\n",
    "c = RandomUniform(50)\n",
    "n = NobelPerChocolate(c)\n",
    "\n",
    "print(\"Chocolate:\", c)\n",
    "print(\"\\nNobel: \", n)"
   ]
  },
  {
   "cell_type": "code",
   "execution_count": 20,
   "metadata": {},
   "outputs": [
    {
     "name": "stdout",
     "output_type": "stream",
     "text": [
      "[(2.039420922408267, 0.0157683689633068), (0.4385412419685669, 0), (3.829137820258577, 0.7316551281034307), (9.99116057546959, 3.1964642301878357), (6.72047403974242, 1.8881896158969684), (11.14717695303612, 3.658870781214448), (4.157629123065477, 0.8630516492261908), (8.98275371528634, 2.7931014861145362), (13.671935542712697, 4.66877421708508), (11.751879261969446, 3.900751704787779), (3.590816168238276, 0.6363264672953104), (6.69340269611882, 1.8773610784475283), (2.2910644707361523, 0.11642578829446093), (6.052617729443012, 1.621047091777205), (3.027037970285286, 0.41081518811411444), (2.7875267594195297, 0.3150107037678118), (8.31088030347022, 2.5243521213880884), (2.622396342278278, 0.2489585369113112), (8.259512072698382, 2.5038048290793524), (10.637032841214241, 3.454813136485697), (7.028646596335229, 2.0114586385340916), (8.0787766709966, 2.43151066839864), (3.982324822711333, 0.7929299290845333), (6.788736704314689, 1.9154946817258758), (8.461758461716641, 2.584703384686657), (14.525217615621742, 5.010087046248697), (7.417756704650074, 2.1671026818600296), (13.982115454264326, 4.792846181705731), (7.419238277458218, 2.1676953109832873), (13.065932631843635, 4.426373052737454), (3.7504994366403226, 0.700199774656129), (3.242469405078325, 0.4969877620313301), (12.082597652420919, 4.033039060968368), (13.477177034805695, 4.590870813922279), (0.5571089378318572, 0), (8.450124067171451, 2.580049626868581), (2.6388793378983206, 0.25555173515932816), (11.659927624641774, 3.86397104985671), (8.58077598336137, 2.6323103933445484), (5.164734682260544, 1.2658938729042177), (3.6424541304559805, 0.6569816521823924), (3.4182204022322416, 0.5672881608928966), (12.036560663444671, 4.014624265377869), (12.208958666858932, 4.0835834667435735), (3.196101107200165, 0.47844044288006593), (7.7341345786567475, 2.2936538314626995), (4.56043035220268, 1.024172140881072), (4.139055494687497, 0.8556221978749989), (6.996353310551985, 1.9985413242207943), (2.232535213551414, 0.09301408542056555)]\n"
     ]
    }
   ],
   "source": [
    "# Concatenate my lists\n",
    "chocAndNob = list(zip(c,n))\n",
    "print(chocAndNob)"
   ]
  },
  {
   "cell_type": "markdown",
   "metadata": {},
   "source": [
    "### Problem 3(b).  Error term.\n",
    "\n",
    "Our list of data from part (a) is not a good simulation of real-world data, because it is perfectly linear.  That is, even though the per capita chocolate variable is random, the number of Nobel laureates is 100% predicted from that value.  So, we'll randomly perturb the number of laureates for each country.  \n",
    "\n",
    "🎯 Using the 50 $c$ and $n$ values you generated in part (a), generate new $n_e$ values, using the following formula:\n",
    "\n",
    "$n_e = n + \\epsilon.$\n",
    "\n",
    "Here $\\epsilon$ should be a random variable with **normal distribution**, mean 0, and standard deviation 1.  Using the list of ordered pairs generated in 3(a), create a new list of 50 ordered pairs $(c,n_e)$.  Each $n$ should be perturbed by a distinct and randomly generated value -- do not use the same $\\epsilon$ for all $n$.\n",
    "\n",
    "Again, your simulated data should not predict negative numbers of Nobel laureates. Again, do *not* generate a new list of $(c,n)$ values; you must re-use the list of ordered pairs already generated in 3(a).  Data you create as the result of evaluating a cell is available for use in other cells.  Check it out -- try running the Python command `who` if you want to prove it to yourself (a good habit to be in!).\n",
    "\n",
    "🎯 Print your new list of ordered pairs."
   ]
  },
  {
   "cell_type": "code",
   "execution_count": 21,
   "metadata": {},
   "outputs": [],
   "source": [
    "# Perturb each value in n\n",
    "def NobError(n):\n",
    "    nEps = []\n",
    "    # for each value add(or subtract) a random epsilon value and append to list\n",
    "    for i in range(len(n)):\n",
    "        pert = n[i]+np.random.normal(0,1)\n",
    "        if pert < 0:\n",
    "            pert = 0\n",
    "        nEps.append(pert)\n",
    "    return nEps"
   ]
  },
  {
   "cell_type": "code",
   "execution_count": 22,
   "metadata": {},
   "outputs": [
    {
     "name": "stdout",
     "output_type": "stream",
     "text": [
      "[(2.039420922408267, 0.5066008714880245), (0.4385412419685669, 0), (3.829137820258577, 0), (9.99116057546959, 1.9365673300435702), (6.72047403974242, 2.400725760894348), (11.14717695303612, 3.104993095670492), (4.157629123065477, 0), (8.98275371528634, 2.7642322839966735), (13.671935542712697, 5.465743598110979), (11.751879261969446, 3.809180446500627), (3.590816168238276, 0.8960144140048814), (6.69340269611882, 0.482704545977243), (2.2910644707361523, 0.7633135251814078), (6.052617729443012, 2.4876797208896457), (3.027037970285286, 1.143475660793561), (2.7875267594195297, 0), (8.31088030347022, 2.449513447862985), (2.622396342278278, 0), (8.259512072698382, 3.4488590971145743), (10.637032841214241, 3.5753786211498846), (7.028646596335229, 1.880323704989523), (8.0787766709966, 2.9237176165188443), (3.982324822711333, 1.028237892523525), (6.788736704314689, 2.021641875267559), (8.461758461716641, 3.34977080304668), (14.525217615621742, 6.758955510759703), (7.417756704650074, 3.0236274002530115), (13.982115454264326, 5.579080403669058), (7.419238277458218, 1.9572613410112127), (13.065932631843635, 5.299340749797961), (3.7504994366403226, 0), (3.242469405078325, 0), (12.082597652420919, 3.6568021886375477), (13.477177034805695, 3.8797124745964373), (0.5571089378318572, 0.06867583247106165), (8.450124067171451, 1.9877635602118482), (2.6388793378983206, 1.0208967031433567), (11.659927624641774, 2.049006561051642), (8.58077598336137, 2.8937973780031796), (5.164734682260544, 1.4226876655524117), (3.6424541304559805, 0.07010654386827708), (3.4182204022322416, 1.201771826553507), (12.036560663444671, 5.161932147318792), (12.208958666858932, 4.945612737966477), (3.196101107200165, 1.086331525923093), (7.7341345786567475, 1.9099380024453492), (4.56043035220268, 0.6082020489589898), (4.139055494687497, 0), (6.996353310551985, 4.2358201212392155), (2.232535213551414, 1.7533831396766995)]\n"
     ]
    }
   ],
   "source": [
    "# Function call, list concatenate and print\n",
    "nEps = NobError(n)\n",
    "\n",
    "pertChocNob = list(zip(c, nEps))\n",
    "print(pertChocNob)"
   ]
  },
  {
   "cell_type": "markdown",
   "metadata": {},
   "source": [
    "### Problem 3(c).  Winners and losers.\n",
    "\n",
    "🎯 Make a new list consisting of all of the ordered pairs $(c,n_e)$ from your list from part (b) such that $n_e > 0.4\\cdot c -0.8$ (the $n$ value increased upon perturbation). \n",
    "\n",
    "🎯 Print this new (shorter) list. \n",
    "Use Python to calculate how many items are in your list of winners.  Hint to help you know when you have the answer correct: since the perturbation has mean 0, we expect about half to have gone up..."
   ]
  },
  {
   "cell_type": "code",
   "execution_count": 23,
   "metadata": {},
   "outputs": [],
   "source": [
    "# Determine which tuples saw an increase from perturbation and make a new list\n",
    "def Winners(pertList):\n",
    "    winnerList = []\n",
    "    # List comprehension that I still don't fully understand the syntax of\n",
    "    winnerList = [i for i in pertList if i[1] > (0.4*i[0]-0.8)]\n",
    "    return winnerList"
   ]
  },
  {
   "cell_type": "code",
   "execution_count": 24,
   "metadata": {},
   "outputs": [
    {
     "name": "stdout",
     "output_type": "stream",
     "text": [
      "[(2.039420922408267, 0.5066008714880245), (0.4385412419685669, 0), (6.72047403974242, 2.400725760894348), (13.671935542712697, 5.465743598110979), (3.590816168238276, 0.8960144140048814), (2.2910644707361523, 0.7633135251814078), (6.052617729443012, 2.4876797208896457), (3.027037970285286, 1.143475660793561), (8.259512072698382, 3.4488590971145743), (10.637032841214241, 3.5753786211498846), (8.0787766709966, 2.9237176165188443), (3.982324822711333, 1.028237892523525), (6.788736704314689, 2.021641875267559), (8.461758461716641, 3.34977080304668), (14.525217615621742, 6.758955510759703), (7.417756704650074, 3.0236274002530115), (13.982115454264326, 5.579080403669058), (13.065932631843635, 5.299340749797961), (0.5571089378318572, 0.06867583247106165), (2.6388793378983206, 1.0208967031433567), (8.58077598336137, 2.8937973780031796), (5.164734682260544, 1.4226876655524117), (3.4182204022322416, 1.201771826553507), (12.036560663444671, 5.161932147318792), (12.208958666858932, 4.945612737966477), (3.196101107200165, 1.086331525923093), (6.996353310551985, 4.2358201212392155), (2.232535213551414, 1.7533831396766995)]\n",
      "28\n"
     ]
    }
   ],
   "source": [
    "# Function calls and print\n",
    "winning = Winners(pertChocNob)\n",
    "print(winning)\n",
    "print(len(winning))"
   ]
  },
  {
   "cell_type": "markdown",
   "metadata": {},
   "source": [
    "# Problem 3(d). Preparing data to transfer to R.\n",
    "\n",
    "🎯 For future use, split your list of ordered pairs from Problem 3(b) (not 3(c)!) into two lists.  \n",
    "\n",
    "1. The first list should contain the $c$ values, and \n",
    "2. the second list should contain the $n_e$ values.\n",
    "\n",
    "To actually transfer data to R, we would write it to a file, perhaps as a csv file.  We'll leave that for later."
   ]
  },
  {
   "cell_type": "code",
   "execution_count": 25,
   "metadata": {},
   "outputs": [
    {
     "name": "stdout",
     "output_type": "stream",
     "text": [
      "c:  (2.039420922408267, 0.4385412419685669, 3.829137820258577, 9.99116057546959, 6.72047403974242, 11.14717695303612, 4.157629123065477, 8.98275371528634, 13.671935542712697, 11.751879261969446, 3.590816168238276, 6.69340269611882, 2.2910644707361523, 6.052617729443012, 3.027037970285286, 2.7875267594195297, 8.31088030347022, 2.622396342278278, 8.259512072698382, 10.637032841214241, 7.028646596335229, 8.0787766709966, 3.982324822711333, 6.788736704314689, 8.461758461716641, 14.525217615621742, 7.417756704650074, 13.982115454264326, 7.419238277458218, 13.065932631843635, 3.7504994366403226, 3.242469405078325, 12.082597652420919, 13.477177034805695, 0.5571089378318572, 8.450124067171451, 2.6388793378983206, 11.659927624641774, 8.58077598336137, 5.164734682260544, 3.6424541304559805, 3.4182204022322416, 12.036560663444671, 12.208958666858932, 3.196101107200165, 7.7341345786567475, 4.56043035220268, 4.139055494687497, 6.996353310551985, 2.232535213551414)\n",
      "\n",
      "ne:  (0.5066008714880245, 0, 0, 1.9365673300435702, 2.400725760894348, 3.104993095670492, 0, 2.7642322839966735, 5.465743598110979, 3.809180446500627, 0.8960144140048814, 0.482704545977243, 0.7633135251814078, 2.4876797208896457, 1.143475660793561, 0, 2.449513447862985, 0, 3.4488590971145743, 3.5753786211498846, 1.880323704989523, 2.9237176165188443, 1.028237892523525, 2.021641875267559, 3.34977080304668, 6.758955510759703, 3.0236274002530115, 5.579080403669058, 1.9572613410112127, 5.299340749797961, 0, 0, 3.6568021886375477, 3.8797124745964373, 0.06867583247106165, 1.9877635602118482, 1.0208967031433567, 2.049006561051642, 2.8937973780031796, 1.4226876655524117, 0.07010654386827708, 1.201771826553507, 5.161932147318792, 4.945612737966477, 1.086331525923093, 1.9099380024453492, 0.6082020489589898, 0, 4.2358201212392155, 1.7533831396766995)\n"
     ]
    }
   ],
   "source": [
    "c,ne = list(zip(*pertChocNob))\n",
    "\n",
    "print(\"c: \",c)\n",
    "print(\"\\nne: \",ne)"
   ]
  },
  {
   "cell_type": "code",
   "execution_count": null,
   "metadata": {},
   "outputs": [],
   "source": []
  }
 ],
 "metadata": {
  "celltoolbar": "Edit Metadata",
  "kernelspec": {
   "display_name": "Python 3",
   "language": "python",
   "name": "python3"
  },
  "language_info": {
   "codemirror_mode": {
    "name": "ipython",
    "version": 3
   },
   "file_extension": ".py",
   "mimetype": "text/x-python",
   "name": "python",
   "nbconvert_exporter": "python",
   "pygments_lexer": "ipython3",
   "version": "3.6.5"
  }
 },
 "nbformat": 4,
 "nbformat_minor": 1
}
